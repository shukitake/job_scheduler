{
 "cells": [
  {
   "cell_type": "code",
   "execution_count": 87,
   "metadata": {},
   "outputs": [],
   "source": [
    "import pulp"
   ]
  },
  {
   "cell_type": "code",
   "execution_count": 88,
   "metadata": {},
   "outputs": [],
   "source": [
    "#初期設定を与える\n",
    "#ジョブの集合\n",
    "Jobs = [1,2,3,4]\n",
    "#ジョブの処理時間の集合\n",
    "Pro_time = [1, 93, 26, 30]\n",
    "#ジョブの重要度の集合\n",
    "Weights = [1, 3, 3,5]\n",
    "#ジョブのリリース時間の集合\n",
    "Release_time = [63, 4, 63, 99]\n"
   ]
  },
  {
   "cell_type": "code",
   "execution_count": 89,
   "metadata": {},
   "outputs": [],
   "source": [
    "#データを作成する\n",
    "def make_data(Jobs,Pro_time,Weights,Relase_time):\n",
    "    \"\"\"\n",
    "    Attributes\n",
    "    ----------\n",
    "    Jobs : list\n",
    "        ジョブの集合    \n",
    "    Pro_time : list\n",
    "        ジョブの処理時間の集合  \n",
    "    Weights : list\n",
    "        ジョブの重要度の集合    \n",
    "    Relase_time : list\n",
    "        ジョブのリリース時間の集合  \n",
    "    Returns\n",
    "    -------\n",
    "    J : list\n",
    "    P : dict\n",
    "    W : dict\n",
    "    R : dict\n",
    "    \"\"\"\n",
    "    J = Jobs   \n",
    "    P = dict()\n",
    "    W = dict()\n",
    "    R = dict()\n",
    "    for j,p,w,r in zip(Jobs,Pro_time,Weights,Relase_time):\n",
    "        P[j] = p\n",
    "        W[j] = w\n",
    "        R[j] = r\n",
    "    return J,P,W,R\n",
    "\n",
    "class Model():\n",
    "    #問題の定義\n",
    "    def __init__(self,J,P,W,R) -> None:\n",
    "        \"\"\"\n",
    "        Attributes\n",
    "        ----------\n",
    "        J : list\n",
    "            ジョブの集合    \n",
    "        P : dict\n",
    "            ジョブの処理時間の集合  \n",
    "        W : dict    \n",
    "            ジョブの重要度の集合\n",
    "        R : dict    \n",
    "            ジョブのリリース時間の集合\n",
    "        M : int \n",
    "            ビックMの値（最も遅いリリースから全ジョブの処理時間の和を足す）\n",
    "        \"\"\"\n",
    "        self.prob = pulp.LpProblem(name=\"prob\", sense=pulp.LpMinimize)\n",
    "        self.J = J\n",
    "        self.P = P\n",
    "        self.W = W\n",
    "        self.R = R\n",
    "        self.M = max(R.values()) + sum(P.values())  \n",
    "    \n",
    "    #変数を定義する\n",
    "    def make_var(self):\n",
    "        \"\"\"\n",
    "        Returns\n",
    "        -------\n",
    "        X : list\n",
    "            ジョブの順序に関する変数  \n",
    "        C : list\n",
    "            ジョブの完了時間に関する変数\n",
    "        S : list\n",
    "            ジョブの開始時間に関する変数\n",
    "        \"\"\"\n",
    "        self.X = pulp.LpVariable.dicts(\"x\", [(j,k) for j in self.J for k in self.J], cat=\"Binary\")\n",
    "        self.C = pulp.LpVariable.dicts(\"C\", self.J, lowBound=0, cat=\"Continuous\")\n",
    "        self.S = pulp.LpVariable.dicts(\"s\", self.J, lowBound=0, cat=\"Continuous\")\n",
    "        return self.X,self.C,self.S\n",
    "\n",
    "    #目的関数を定義する\n",
    "    def make_obj(self):\n",
    "        w_list, C_list = [], []\n",
    "        for j in self.J:\n",
    "            w_list.append(self.W[j])\n",
    "            C_list.append(self.C[j])\n",
    "        self.prob += pulp.lpDot(self.C,self.W)\n",
    "        return self.prob\n",
    "    \n",
    "    #制約条件を定義する\n",
    "    def make_const(self):\n",
    "        \"\"\"\n",
    "        制約1 : C[j] == S[j] + P[j]\n",
    "            ジョブjの完了時間は開始時間と処理時間の和\n",
    "        制約2 : S[j] >= R[j]\n",
    "            ジョブjの開始時間はリリース時間以上\n",
    "        制約3 : C[j] <= S[k] + M * (1 - X[j,k])\n",
    "            ジョブjがジョブkよりも早く終わる時、ジョブjの完了時間はジョブkの開始時間よりも早い\n",
    "        制約4 : X[j,k] + X[k,j] == 1\n",
    "            ジョブjとジョブkの順序は1つのみ\n",
    "        \"\"\"\n",
    "        #制約条件を定義する\n",
    "        for j in self.J:\n",
    "            #制約1\n",
    "            self.prob += self.C[j] == self.S[j] + self.P[j]\n",
    "            #制約2\n",
    "            self.prob += self.S[j] >= self.R[j]\n",
    "            # for k in self.J:\n",
    "            #     #制約3\n",
    "            #     self.prob += self.S[k] + self.M * (1 - self.X[j,k]) >= self.C[j]\n",
    "            #     #制約4\n",
    "            #     if j != k:\n",
    "            #         self.prob += self.X[j,k] + self.X[k,j] == 1 \n",
    "        return self.prob"
   ]
  },
  {
   "cell_type": "code",
   "execution_count": 90,
   "metadata": {},
   "outputs": [],
   "source": [
    "J,P,W,R = make_data(Jobs,Pro_time,Weights,Release_time)"
   ]
  },
  {
   "cell_type": "code",
   "execution_count": 91,
   "metadata": {},
   "outputs": [
    {
     "name": "stdout",
     "output_type": "stream",
     "text": [
      "Welcome to the CBC MILP Solver \n",
      "Version: 2.10.3 \n",
      "Build Date: Dec 15 2019 \n",
      "\n",
      "command line - /Users/shukitakeuchi/Library/Caches/pypoetry/virtualenvs/job-scheduler-KeT9Yqdu-py3.8/lib/python3.8/site-packages/pulp/solverdir/cbc/osx/64/cbc /var/folders/q6/yv767t9s35q4h2jldrxtfq1c0000gn/T/b25dfdf89b65482ba467d6c63f3af458-pulp.mps timeMode elapsed branch printingOptions all solution /var/folders/q6/yv767t9s35q4h2jldrxtfq1c0000gn/T/b25dfdf89b65482ba467d6c63f3af458-pulp.sol (default strategy 1)\n",
      "At line 2 NAME          MODEL\n",
      "At line 3 ROWS\n",
      "At line 9 COLUMNS\n",
      "At line 19 RHS\n",
      "At line 24 BOUNDS\n",
      "At line 26 ENDATA\n",
      "Problem MODEL has 4 rows, 9 columns and 8 elements\n",
      "Coin0008I MODEL read with 0 errors\n",
      "Option for timeMode changed from cpu to elapsed\n",
      "Presolve 0 (-4) rows, 0 (-9) columns and 0 (-8) elements\n",
      "Empty problem - 0 rows, 0 columns and 0 elements\n",
      "Optimal - objective value 0\n",
      "After Postsolve, objective 0, infeasibilities - dual 0 (0), primal 0 (0)\n",
      "Optimal objective 0 - 0 iterations time 0.002, Presolve 0.00\n",
      "Option for printingOptions changed from normal to all\n",
      "Total time (CPU seconds):       0.00   (Wallclock seconds):       0.00\n",
      "\n"
     ]
    },
    {
     "data": {
      "text/plain": [
       "1"
      ]
     },
     "execution_count": 91,
     "metadata": {},
     "output_type": "execute_result"
    }
   ],
   "source": [
    "model = Model(J,P,W,R)\n",
    "model.make_var()\n",
    "model.make_obj()\n",
    "model.make_const()\n",
    "model.prob.solve()"
   ]
  },
  {
   "cell_type": "code",
   "execution_count": 92,
   "metadata": {},
   "outputs": [
    {
     "data": {
      "text/plain": [
       "{1: 1, 2: 93, 3: 26, 4: 30}"
      ]
     },
     "execution_count": 92,
     "metadata": {},
     "output_type": "execute_result"
    }
   ],
   "source": [
    "model.P"
   ]
  },
  {
   "cell_type": "code",
   "execution_count": 98,
   "metadata": {},
   "outputs": [
    {
     "name": "stdout",
     "output_type": "stream",
     "text": [
      "C_1 = 1.0\n",
      "C_2 = 93.0\n",
      "C_3 = 26.0\n",
      "C_4 = 30.0\n",
      "__dummy = None\n",
      "s_1 = 0.0\n",
      "s_2 = 0.0\n",
      "s_3 = 0.0\n",
      "s_4 = 0.0\n"
     ]
    }
   ],
   "source": [
    "#変数を確認する\n",
    "for v in model.prob.variables():\n",
    "    print(v.name, \"=\", v.varValue)\n",
    "    "
   ]
  },
  {
   "cell_type": "code",
   "execution_count": 94,
   "metadata": {},
   "outputs": [
    {
     "name": "stdout",
     "output_type": "stream",
     "text": [
      "制約の数 :  4\n",
      "変数の数 :  9\n",
      "最適解 :  None\n",
      "C_1 = 1.0\n",
      "C_2 = 93.0\n",
      "C_3 = 26.0\n",
      "C_4 = 30.0\n",
      "__dummy = None\n",
      "s_1 = 0.0\n",
      "s_2 = 0.0\n",
      "s_3 = 0.0\n",
      "s_4 = 0.0\n"
     ]
    }
   ],
   "source": [
    "#modelの制約の数\n",
    "print(\"制約の数 : \",model.prob.numConstraints())\n",
    "#modelの変数の数\n",
    "print(\"変数の数 : \",model.prob.numVariables())\n",
    "#最適解\n",
    "print(\"最適解 : \",pulp.value(model.prob.objective))\n",
    "#最適解の時の変数の値\n",
    "for v in model.prob.variables():\n",
    "    print(v.name, \"=\", v.varValue)\n",
    "    "
   ]
  },
  {
   "cell_type": "code",
   "execution_count": 95,
   "metadata": {},
   "outputs": [
    {
     "data": {
      "text/plain": [
       "'Optimal'"
      ]
     },
     "execution_count": 95,
     "metadata": {},
     "output_type": "execute_result"
    }
   ],
   "source": [
    "pulp.LpStatus[model.prob.status]"
   ]
  },
  {
   "cell_type": "code",
   "execution_count": 96,
   "metadata": {},
   "outputs": [
    {
     "name": "stdout",
     "output_type": "stream",
     "text": [
      "ジョブ1の処理時間は1、重要度は1、リリース時間は63\n",
      "ジョブ2の処理時間は93、重要度は3、リリース時間は4\n",
      "ジョブ3の処理時間は26、重要度は3、リリース時間は63\n",
      "ジョブ4の処理時間は30、重要度は5、リリース時間は99\n"
     ]
    }
   ],
   "source": [
    "for j in J:\n",
    "    print(\"ジョブ{}の処理時間は{}、重要度は{}、リリース時間は{}\".format(j,P[j],W[j],R[j]))"
   ]
  },
  {
   "cell_type": "code",
   "execution_count": 97,
   "metadata": {},
   "outputs": [
    {
     "name": "stdout",
     "output_type": "stream",
     "text": [
      "最適値は None\n",
      "ジョブ 1 の開始時間は 0.0\n",
      "ジョブ 1 の完了時間は 1.0\n",
      "\n",
      "ジョブ 2 の開始時間は 0.0\n",
      "ジョブ 2 の完了時間は 93.0\n",
      "\n",
      "ジョブ 3 の開始時間は 0.0\n",
      "ジョブ 3 の完了時間は 26.0\n",
      "\n",
      "ジョブ 4 の開始時間は 0.0\n",
      "ジョブ 4 の完了時間は 30.0\n",
      "\n"
     ]
    }
   ],
   "source": [
    "#pulpの計算結果を取得する\n",
    "print(\"最適値は\",model.prob.objective.value())\n",
    "for j in J:\n",
    "    print(\"ジョブ\",j,\"の開始時間は\",pulp.value(model.S[j]))\n",
    "    print(\"ジョブ\",j,\"の完了時間は\",pulp.value(model.C[j]))\n",
    "    print(\"\")"
   ]
  },
  {
   "cell_type": "code",
   "execution_count": null,
   "metadata": {},
   "outputs": [],
   "source": []
  }
 ],
 "metadata": {
  "kernelspec": {
   "display_name": "job-scheduler-KeT9Yqdu-py3.8",
   "language": "python",
   "name": "python3"
  },
  "language_info": {
   "codemirror_mode": {
    "name": "ipython",
    "version": 3
   },
   "file_extension": ".py",
   "mimetype": "text/x-python",
   "name": "python",
   "nbconvert_exporter": "python",
   "pygments_lexer": "ipython3",
   "version": "3.8.10"
  },
  "orig_nbformat": 4
 },
 "nbformat": 4,
 "nbformat_minor": 2
}
